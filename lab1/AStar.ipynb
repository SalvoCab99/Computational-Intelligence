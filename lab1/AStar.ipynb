{
 "cells": [
  {
   "cell_type": "code",
   "execution_count": 173,
   "metadata": {},
   "outputs": [],
   "source": [
    "from random import random\n",
    "from math import ceil\n",
    "from functools import reduce\n",
    "from collections import namedtuple, deque\n",
    "from queue import PriorityQueue\n",
    "\n",
    "import numpy as np\n",
    "from tqdm.auto import tqdm"
   ]
  },
  {
   "cell_type": "code",
   "execution_count": 174,
   "metadata": {},
   "outputs": [],
   "source": [
    "State = namedtuple('State', ['taken', 'not_taken'])\n",
    "\n",
    "def covered(state):\n",
    "    return reduce(\n",
    "        np.logical_or,\n",
    "        [SETS[i] for i in state.taken],\n",
    "        np.array([False for _ in range(PROBLEM_SIZE)]),\n",
    "    )\n",
    "\n",
    "\n",
    "def goal_check(state):\n",
    "    return np.all(covered(state))"
   ]
  },
  {
   "cell_type": "code",
   "execution_count": 175,
   "metadata": {},
   "outputs": [
    {
     "data": {
      "text/plain": [
       "(array([False, False,  True, False, False, False]),\n",
       " array([ True,  True, False, False, False, False]),\n",
       " array([False, False, False, False, False, False]),\n",
       " array([ True, False, False, False, False, False]),\n",
       " array([False,  True, False, False,  True, False]),\n",
       " array([False, False, False,  True, False, False]),\n",
       " array([False,  True, False, False, False, False]),\n",
       " array([ True,  True, False,  True, False,  True]),\n",
       " array([False,  True, False, False, False, False]),\n",
       " array([False, False, False, False,  True, False]))"
      ]
     },
     "execution_count": 175,
     "metadata": {},
     "output_type": "execute_result"
    }
   ],
   "source": [
    "PROBLEM_SIZE = 6\n",
    "NUM_SETS = 10\n",
    "SETS = tuple(np.array([random() < 0.3 for _ in range(PROBLEM_SIZE)]) for _ in range(NUM_SETS))\n",
    "assert goal_check(State(set(range(NUM_SETS)), set())), \"Probelm not solvable\"\n",
    "SETS"
   ]
  },
  {
   "cell_type": "code",
   "execution_count": 184,
   "metadata": {},
   "outputs": [],
   "source": [
    "def h(state):\n",
    "    largest_set_size = max(sum(s) for s in SETS)\n",
    "    missing_size = PROBLEM_SIZE - sum(covered(state))\n",
    "    optimistic_estimate = ceil(missing_size / largest_set_size)\n",
    "    return optimistic_estimate\n",
    "\n",
    "\n",
    "def h2(state):\n",
    "    already_covered = covered(state)\n",
    "    if np.all(already_covered):\n",
    "        return 0\n",
    "    largest_set_size = max(sum(np.logical_and(s, np.logical_not(already_covered))) for s in SETS)\n",
    "    missing_size = PROBLEM_SIZE - sum(already_covered)\n",
    "    optimistic_estimate = ceil(missing_size / largest_set_size)\n",
    "    return optimistic_estimate\n",
    "\n",
    "\n",
    "def h3(state):\n",
    "    already_covered = covered(state)\n",
    "    if np.all(already_covered):\n",
    "        return 0\n",
    "    missing_size = PROBLEM_SIZE - sum(already_covered)\n",
    "    candidates = sorted((sum(np.logical_and(s, np.logical_not(already_covered))) for s in SETS), reverse=True)\n",
    "    taken = 1\n",
    "    while sum(candidates[:taken]) < missing_size:\n",
    "        taken += 1\n",
    "    return taken\n",
    "\n",
    "def h4(state):  #This method works like Greedy algorithm, it is not the best like h3, but it is another approach\n",
    "                #I need to point out that somethimes it takes more tiles than h3 but it often takes less steps than h3\n",
    "    already_covered = covered(state)\n",
    "    if np.all(already_covered):\n",
    "        return 0\n",
    "\n",
    "    to_cover = PROBLEM_SIZE - np.sum(already_covered)   #number of tiles to cover\n",
    "\n",
    "    taken = 0\n",
    "\n",
    "    while np.any(already_covered == False) and taken < to_cover:\n",
    "        # search set not already covered\n",
    "        max_covering_set = None\n",
    "        max_covering_size = -1\n",
    "        for i, s in enumerate(SETS):\n",
    "            if i not in state.taken:\n",
    "                covering_size = np.sum(np.logical_and(s, np.logical_not(already_covered)))\n",
    "                if covering_size > max_covering_size:   #if it is not already covered\n",
    "                    max_covering_size = covering_size\n",
    "                    max_covering_set = s\n",
    "\n",
    "        if max_covering_set is not None:    #if it is covered max_covering_set will be None\n",
    "            state.taken.add(i)\n",
    "            already_covered = np.logical_or(already_covered, max_covering_set)\n",
    "            taken += 1\n",
    "        else:\n",
    "            break       #we don't have to take any other set \n",
    "\n",
    "    return taken\n",
    "\n",
    "\n",
    "\n",
    "def f(state):\n",
    "    return len(state.taken) + h4(state)"
   ]
  },
  {
   "cell_type": "code",
   "execution_count": 185,
   "metadata": {},
   "outputs": [
    {
     "name": "stderr",
     "output_type": "stream",
     "text": [
      "8it [00:00, 962.05it/s]"
     ]
    },
    {
     "name": "stdout",
     "output_type": "stream",
     "text": [
      "State(taken={9}, not_taken={0, 1, 2, 3, 4, 5, 6, 7, 8})\n",
      "State(taken={0, 9}, not_taken={1, 2, 3, 4, 5, 6, 7, 8, 9})\n",
      "State(taken={9, 7}, not_taken={0, 1, 2, 3, 4, 5, 6, 8})\n",
      "State(taken={0, 9}, not_taken={1, 2, 3, 4, 5, 6, 7, 8})\n",
      "State(taken={0, 9}, not_taken={1, 2, 3, 4, 5, 6, 7, 8})\n",
      "State(taken={9, 7}, not_taken={0, 1, 2, 3, 4, 5, 6, 8, 9})\n",
      "State(taken={9, 7}, not_taken={0, 1, 2, 3, 4, 5, 6, 8})\n",
      "State(taken={0, 9, 7}, not_taken={1, 2, 3, 4, 5, 6, 8})\n",
      "Solved in 8 steps (3 tiles)\n",
      "State(taken={0, 9, 7}, not_taken={1, 2, 3, 4, 5, 6, 8})\n"
     ]
    },
    {
     "name": "stderr",
     "output_type": "stream",
     "text": [
      "\n"
     ]
    }
   ],
   "source": [
    "frontier = PriorityQueue()\n",
    "state = State(set(), set(range(NUM_SETS)))\n",
    "frontier.put((f(state), state))\n",
    "\n",
    "counter = 0\n",
    "_, current_state = frontier.get()\n",
    "with tqdm(total=None) as pbar:\n",
    "    while not goal_check(current_state):\n",
    "        counter += 1\n",
    "        for action in current_state[1]:\n",
    "            new_state = State(\n",
    "                current_state.taken ^ {action},\n",
    "                current_state.not_taken ^ {action},\n",
    "            )\n",
    "            frontier.put((f(new_state), new_state))\n",
    "        _, current_state = frontier.get()\n",
    "        print(current_state)\n",
    "        pbar.update(1)\n",
    "\n",
    "print(f\"Solved in {counter:,} steps ({len(current_state.taken)} tiles)\")\n",
    "print(current_state)"
   ]
  }
 ],
 "metadata": {
  "kernelspec": {
   "display_name": "Python 3",
   "language": "python",
   "name": "python3"
  },
  "language_info": {
   "codemirror_mode": {
    "name": "ipython",
    "version": 3
   },
   "file_extension": ".py",
   "mimetype": "text/x-python",
   "name": "python",
   "nbconvert_exporter": "python",
   "pygments_lexer": "ipython3",
   "version": "3.12.0"
  }
 },
 "nbformat": 4,
 "nbformat_minor": 2
}
