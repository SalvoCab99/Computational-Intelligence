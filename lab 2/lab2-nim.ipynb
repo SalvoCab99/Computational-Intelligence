{
 "cells": [
  {
   "cell_type": "markdown",
   "metadata": {
    "pycharm": {
     "name": "#%% md\n"
    }
   },
   "source": [
    "Copyright **`(c)`** 2022 Giovanni Squillero `<squillero@polito.it>`  \n",
    "[`https://github.com/squillero/computational-intelligence`](https://github.com/squillero/computational-intelligence)  \n",
    "Free for personal or classroom use; see [`LICENSE.md`](https://github.com/squillero/computational-intelligence/blob/master/LICENSE.md) for details.  \n"
   ]
  },
  {
   "cell_type": "markdown",
   "metadata": {
    "pycharm": {
     "name": "#%%\n"
    }
   },
   "source": [
    "# Lab 2: ES\n",
    "\n",
    "## Task\n",
    "\n",
    "Write agents able to play [*Nim*](https://en.wikipedia.org/wiki/Nim), with an arbitrary number of rows and an upper bound $k$ on the number of objects that can be removed in a turn (a.k.a., *subtraction game*).\n",
    "\n",
    "The goal of the game is to **avoid** taking the last object.\n",
    "\n",
    "* Task2.1: An agent using fixed rules based on *nim-sum* (i.e., an *expert system*)\n",
    "* Task2.2: An agent using evolved rules using ES\n",
    "\n",
    "## Instructions\n",
    "\n",
    "* Create the directory `lab2` inside your personal course repository for the course \n",
    "* Put a `README.md` and your solution (all the files, code and auxiliary data if needed)\n",
    "\n",
    "## Notes\n",
    "\n",
    "* Working in group is not only allowed, but recommended (see: [Ubuntu](https://en.wikipedia.org/wiki/Ubuntu_philosophy) and [Cooperative Learning](https://files.eric.ed.gov/fulltext/EJ1096789.pdf)). Collaborations must be explicitly declared in the `README.md`.\n",
    "* [Yanking](https://www.emacswiki.org/emacs/KillingAndYanking) from the internet is allowed, but sources must be explicitly declared in the `README.md`.\n",
    "\n"
   ]
  },
  {
   "cell_type": "code",
   "execution_count": 2,
   "metadata": {},
   "outputs": [],
   "source": [
    "import logging\n",
    "from pprint import pprint, pformat\n",
    "from collections import namedtuple\n",
    "import random\n",
    "from copy import deepcopy\n"
   ]
  },
  {
   "cell_type": "markdown",
   "metadata": {},
   "source": [
    "## The *Nim* and *Nimply* classes"
   ]
  },
  {
   "cell_type": "code",
   "execution_count": 3,
   "metadata": {},
   "outputs": [],
   "source": [
    "Nimply = namedtuple(\"Nimply\", \"row, num_objects\")\n"
   ]
  },
  {
   "cell_type": "code",
   "execution_count": 4,
   "metadata": {},
   "outputs": [],
   "source": [
    "class Nim:\n",
    "    def __init__(self, num_rows: int, k: int = None) -> None:\n",
    "        self._rows = [i * 2 + 1 for i in range(num_rows)]\n",
    "        self._k = k\n",
    "\n",
    "    def __bool__(self):\n",
    "        return sum(self._rows) > 0\n",
    "\n",
    "    def __str__(self):\n",
    "        return \"<\" + \" \".join(str(_) for _ in self._rows) + \">\"\n",
    "\n",
    "    @property\n",
    "    def rows(self) -> tuple:\n",
    "        return tuple(self._rows)\n",
    "\n",
    "    def nimming(self, ply: Nimply) -> None:\n",
    "        row, num_objects = ply\n",
    "        assert self._rows[row] >= num_objects\n",
    "        assert self._k is None or num_objects <= self._k\n",
    "        self._rows[row] -= num_objects\n"
   ]
  },
  {
   "cell_type": "markdown",
   "metadata": {},
   "source": [
    "## Sample (and silly) startegies "
   ]
  },
  {
   "cell_type": "code",
   "execution_count": 5,
   "metadata": {},
   "outputs": [],
   "source": [
    "def pure_random(state: Nim) -> Nimply:\n",
    "    \"\"\"A completely random move\"\"\"\n",
    "    row = random.choice([r for r, c in enumerate(state.rows) if c > 0])\n",
    "    num_objects = random.randint(1, state.rows[row])\n",
    "    return Nimply(row, num_objects)\n"
   ]
  },
  {
   "cell_type": "code",
   "execution_count": 6,
   "metadata": {},
   "outputs": [],
   "source": [
    "def gabriele(state: Nim) -> Nimply:\n",
    "    \"\"\"Pick always the maximum possible number of the lowest row\"\"\"\n",
    "    possible_moves = [(r, o) for r, c in enumerate(state.rows) for o in range(1, c + 1)]\n",
    "    return Nimply(*max(possible_moves, key=lambda m: (-m[0], m[1])))\n"
   ]
  },
  {
   "cell_type": "code",
   "execution_count": 7,
   "metadata": {},
   "outputs": [],
   "source": [
    "def adaptive(state: Nim) -> Nimply:\n",
    "    \"\"\"A strategy that can adapt its parameters\"\"\"\n",
    "    genome = {\"love_small\": 0.5}\n"
   ]
  },
  {
   "cell_type": "code",
   "execution_count": 8,
   "metadata": {},
   "outputs": [],
   "source": [
    "import numpy as np\n",
    "\n",
    "def nim_sum(state: Nim) -> int:\n",
    "    tmp = np.array([tuple(int(x) for x in f\"{c:032b}\") for c in state.rows])\n",
    "    xor = tmp.sum(axis=0) % 2\n",
    "    return int(\"\".join(str(_) for _ in xor), base=2)\n",
    "\n",
    "\n",
    "def analize(raw: Nim) -> dict:\n",
    "    cooked = dict()\n",
    "    cooked[\"possible_moves\"] = dict()\n",
    "    for ply in (Nimply(r, o) for r, c in enumerate(raw.rows) for o in range(1, c + 1)):\n",
    "        tmp = deepcopy(raw)\n",
    "        tmp.nimming(ply)\n",
    "        cooked[\"possible_moves\"][ply] = nim_sum(tmp)\n",
    "    return cooked\n",
    "\n",
    "\n",
    "def optimal(state: Nim) -> Nimply:\n",
    "    analysis = analize(state)\n",
    "    logging.debug(f\"analysis:\\n{pformat(analysis)}\")\n",
    "    spicy_moves = [ply for ply, ns in analysis[\"possible_moves\"].items() if ns != 0]\n",
    "    if not spicy_moves:\n",
    "        spicy_moves = list(analysis[\"possible_moves\"].keys())\n",
    "    ply = random.choice(spicy_moves)\n",
    "    return ply\n"
   ]
  },
  {
   "cell_type": "markdown",
   "metadata": {},
   "source": [
    "# My method\n",
    "this method provides to create random moves and select the best move. The best move is the one that has the fewest bits at 1 when it executes the nim_sum. If the nim_sum is 0, it will select that, instead if it is not 0, it will find out the best move near to this one."
   ]
  },
  {
   "cell_type": "code",
   "execution_count": 18,
   "metadata": {},
   "outputs": [],
   "source": [
    "def PosNormal(mean, sigma, num_obj):\n",
    "    x = np.random.normal(mean,sigma)\n",
    "    return(x if x>=1 and x<num_obj else PosNormal(mean, sigma, num_obj))\n",
    "\n",
    "def count_ones(num):\n",
    "    count = 0\n",
    "    while num:\n",
    "        num &= (num - 1)\n",
    "        count += 1\n",
    "    return count\n",
    "\n",
    "def tweak(state: Nim, move: Nimply) -> Nimply:               #it takes in input Nim and Nimply and search a move near to its\n",
    "    to_remove = int(PosNormal(move.num_objects, (state.rows[move.row]/2), (state.rows[move.row]+1)))#PosNormal(mean, sigma, number of objs)\n",
    "    return Nimply(move.row, to_remove)\n",
    "\n",
    "def my_strategy(state: Nim) -> Nimply:\n",
    "    non_empty_row = [r for r, c in enumerate(state.rows) if c != 0]\n",
    "    #new_state = tweak(state, non_empty_row[random.randint(0,len(non_empty_row)-1)])\n",
    "    new_state = []          #array di nuove mosse\n",
    "    if (len(non_empty_row) == 1):\n",
    "        if (state.rows[non_empty_row[0]] == 1):\n",
    "            return Nimply(non_empty_row[0], 1)\n",
    "        return Nimply(non_empty_row[0], state.rows[non_empty_row[0]]-1)\n",
    "    for _ in range(int(sum(state.rows[j] for j in non_empty_row)/3)+1):\n",
    "        tmp = deepcopy(state)\n",
    "        r_var = pure_random(state)\n",
    "        tmp.nimming(r_var)\n",
    "        new_state.append([r_var, nim_sum(tmp)])\n",
    "    new_state.sort(key=lambda x: count_ones(x[1]))\n",
    "    print(\"----------------------------------\")\n",
    "    print(\"original\",new_state)\n",
    "    if new_state[0][1] == 0:\n",
    "        return new_state[0][0]              #best solution early found\n",
    "    mutated = [new_state[0]]\n",
    "    for _ in range(int(state.rows[new_state[0][0].row]/2)):\n",
    "        tmp = deepcopy(state)\n",
    "        r_var = tweak(state,new_state[0][0])\n",
    "        tmp.nimming(r_var)\n",
    "        mutated.append([r_var, nim_sum(tmp)])\n",
    "    mutated.sort(key=lambda x: count_ones(x[1]))\n",
    "    print(\"mutated\",mutated)\n",
    "    return mutated[0][0]"
   ]
  },
  {
   "cell_type": "markdown",
   "metadata": {},
   "source": [
    "## Oversimplified match"
   ]
  },
  {
   "cell_type": "code",
   "execution_count": 19,
   "metadata": {},
   "outputs": [
    {
     "name": "stderr",
     "output_type": "stream",
     "text": [
      "INFO:root:init : <1 3 5 7 9>\n",
      "INFO:root:ply: player 0 plays Nimply(row=3, num_objects=1)\n",
      "INFO:root:status: <1 3 5 6 9>\n",
      "INFO:root:ply: player 1 plays Nimply(row=3, num_objects=1)\n",
      "INFO:root:status: <1 3 5 5 9>\n",
      "INFO:root:ply: player 0 plays Nimply(row=1, num_objects=3)\n",
      "INFO:root:status: <1 0 5 5 9>\n",
      "INFO:root:ply: player 1 plays Nimply(row=0, num_objects=1)\n",
      "INFO:root:status: <0 0 5 5 9>\n",
      "INFO:root:ply: player 0 plays Nimply(row=2, num_objects=1)\n",
      "INFO:root:status: <0 0 4 5 9>\n",
      "INFO:root:ply: player 1 plays Nimply(row=4, num_objects=5)\n",
      "INFO:root:status: <0 0 4 5 4>\n",
      "INFO:root:ply: player 0 plays Nimply(row=4, num_objects=3)\n",
      "INFO:root:status: <0 0 4 5 1>\n",
      "INFO:root:ply: player 1 plays Nimply(row=3, num_objects=1)\n",
      "INFO:root:status: <0 0 4 4 1>\n",
      "INFO:root:ply: player 0 plays Nimply(row=4, num_objects=1)\n",
      "INFO:root:status: <0 0 4 4 0>\n",
      "INFO:root:ply: player 1 plays Nimply(row=3, num_objects=3)\n",
      "INFO:root:status: <0 0 4 1 0>\n",
      "INFO:root:ply: player 0 plays Nimply(row=3, num_objects=1)\n",
      "INFO:root:status: <0 0 4 0 0>\n",
      "INFO:root:ply: player 1 plays Nimply(row=2, num_objects=1)\n",
      "INFO:root:status: <0 0 3 0 0>\n",
      "INFO:root:ply: player 0 plays Nimply(row=2, num_objects=2)\n",
      "INFO:root:status: <0 0 1 0 0>\n",
      "INFO:root:ply: player 1 plays Nimply(row=2, num_objects=1)\n",
      "INFO:root:status: <0 0 0 0 0>\n",
      "INFO:root:status: Player 0 won!\n"
     ]
    },
    {
     "name": "stdout",
     "output_type": "stream",
     "text": [
      "----------------------------------\n",
      "original [[Nimply(row=3, num_objects=1), 8], [Nimply(row=0, num_objects=1), 8], [Nimply(row=2, num_objects=1), 8], [Nimply(row=0, num_objects=1), 8], [Nimply(row=2, num_objects=1), 8], [Nimply(row=2, num_objects=5), 12], [Nimply(row=4, num_objects=2), 7], [Nimply(row=4, num_objects=2), 7], [Nimply(row=4, num_objects=2), 7]]\n",
      "mutated [[Nimply(row=3, num_objects=1), 8], [Nimply(row=3, num_objects=1), 8], [Nimply(row=3, num_objects=1), 8], [Nimply(row=3, num_objects=4), 13]]\n",
      "----------------------------------\n",
      "original [[Nimply(row=1, num_objects=1), 10], [Nimply(row=3, num_objects=1), 10], [Nimply(row=4, num_objects=1), 10], [Nimply(row=0, num_objects=1), 10], [Nimply(row=0, num_objects=1), 10], [Nimply(row=4, num_objects=8), 3], [Nimply(row=2, num_objects=3), 12], [Nimply(row=1, num_objects=2), 9]]\n",
      "mutated [[Nimply(row=1, num_objects=3), 8], [Nimply(row=1, num_objects=1), 10]]\n",
      "----------------------------------\n",
      "original [[Nimply(row=2, num_objects=1), 8], [Nimply(row=2, num_objects=1), 8], [Nimply(row=4, num_objects=7), 2], [Nimply(row=3, num_objects=5), 12], [Nimply(row=4, num_objects=3), 6], [Nimply(row=3, num_objects=4), 13], [Nimply(row=2, num_objects=2), 15]]\n",
      "mutated [[Nimply(row=2, num_objects=1), 8], [Nimply(row=2, num_objects=3), 14], [Nimply(row=2, num_objects=4), 13]]\n",
      "----------------------------------\n",
      "original [[Nimply(row=4, num_objects=3), 0], [Nimply(row=2, num_objects=4), 1], [Nimply(row=3, num_objects=4), 1], [Nimply(row=4, num_objects=1), 2], [Nimply(row=2, num_objects=2), 3]]\n",
      "----------------------------------\n",
      "original [[Nimply(row=4, num_objects=1), 0], [Nimply(row=4, num_objects=1), 0], [Nimply(row=2, num_objects=3), 4], [Nimply(row=2, num_objects=1), 6]]\n",
      "----------------------------------\n",
      "original [[Nimply(row=3, num_objects=1), 4], [Nimply(row=2, num_objects=2), 3]]\n",
      "mutated [[Nimply(row=3, num_objects=1), 4]]\n"
     ]
    }
   ],
   "source": [
    "logging.getLogger().setLevel(logging.INFO)\n",
    "\n",
    "strategy = (my_strategy, pure_random)\n",
    "\n",
    "nim = Nim(5)\n",
    "logging.info(f\"init : {nim}\")\n",
    "player = 0\n",
    "while nim:\n",
    "    ply = strategy[player](nim)\n",
    "    logging.info(f\"ply: player {player} plays {ply}\")\n",
    "    nim.nimming(ply)\n",
    "    logging.info(f\"status: {nim}\")\n",
    "    player = 1 - player\n",
    "logging.info(f\"status: Player {player} won!\")\n"
   ]
  }
 ],
 "metadata": {
  "kernelspec": {
   "display_name": "Python 3.10.7 ('ci22-dPIXJ0_o-py3.10')",
   "language": "python",
   "name": "python3"
  },
  "language_info": {
   "codemirror_mode": {
    "name": "ipython",
    "version": 3
   },
   "file_extension": ".py",
   "mimetype": "text/x-python",
   "name": "python",
   "nbconvert_exporter": "python",
   "pygments_lexer": "ipython3",
   "version": "3.12.0"
  },
  "vscode": {
   "interpreter": {
    "hash": "10197e8e2f2aa67e2c349105091c77f4cd384fce4877865f002d9ec653f96bc0"
   }
  }
 },
 "nbformat": 4,
 "nbformat_minor": 2
}
