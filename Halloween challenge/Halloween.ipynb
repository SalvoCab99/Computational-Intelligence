{
 "cells": [
  {
   "cell_type": "code",
   "execution_count": 144,
   "id": "3ffe7245-e849-41d0-9698-5f0e0b83fee9",
   "metadata": {},
   "outputs": [],
   "source": [
    "from itertools import product\n",
    "from random import random, randint, choice, seed\n",
    "from functools import reduce\n",
    "import numpy as np\n",
    "import math\n",
    "from scipy import sparse\n",
    "from copy import copy"
   ]
  },
  {
   "cell_type": "code",
   "execution_count": 145,
   "id": "6f03bd67-78a0-4d72-95b7-77a918727b91",
   "metadata": {},
   "outputs": [],
   "source": [
    "def make_set_covering_problem(num_points, num_sets, density):\n",
    "    \"\"\"Returns a sparse array where rows are sets and columns are the covered items\"\"\"\n",
    "    seed(num_points*2654435761+num_sets+density)\n",
    "    sets = sparse.lil_array((num_sets, num_points), dtype=bool)\n",
    "    for s, p in product(range(num_sets), range(num_points)):\n",
    "        if random() < density:\n",
    "            sets[s, p] = True\n",
    "    for p in range(num_points):\n",
    "        sets[randint(0, num_sets-1), p] = True\n",
    "    return sets"
   ]
  },
  {
   "cell_type": "code",
   "execution_count": 146,
   "id": "221ffdba-5d3d-48cc-bd08-45ccc9366ea6",
   "metadata": {},
   "outputs": [],
   "source": [
    "NUM_POINTS, NUM_SETS, DENSITY = 100, 100, 0.3\n",
    "x = make_set_covering_problem(NUM_POINTS, NUM_SETS, DENSITY)"
   ]
  },
  {
   "cell_type": "code",
   "execution_count": 147,
   "id": "6492337b-8429-472d-9c3e-c79c5b46da54",
   "metadata": {},
   "outputs": [],
   "source": [
    "def fitness1(state,x):\n",
    "    cost = sum(state)\n",
    "    valid = np.all(\n",
    "        reduce(\n",
    "            np.logical_or,\n",
    "            [x.getrow(i).toarray() for i, t in enumerate(state) if t],\n",
    "            np.array([False for _ in range(NUM_POINTS)]),\n",
    "        )\n",
    "    )\n",
    "    return valid, -cost\n",
    "\n",
    "def fitness2(state,x):\n",
    "    cost = sum(state)\n",
    "    valid = np.sum(\n",
    "        reduce(\n",
    "            np.logical_or,\n",
    "            [x.getrow(i).toarray() for i, t in enumerate(state) if t],\n",
    "            np.array([False for _ in range(NUM_POINTS)]),\n",
    "        )\n",
    "    )\n",
    "    return valid, -cost"
   ]
  },
  {
   "cell_type": "code",
   "execution_count": 148,
   "id": "90f005ec",
   "metadata": {},
   "outputs": [],
   "source": [
    "def tweak(state):\n",
    "    new_state = copy(state)\n",
    "    index = randint(0, NUM_POINTS - 1)\n",
    "    new_state[index] = not new_state[index]\n",
    "    return new_state"
   ]
  },
  {
   "cell_type": "code",
   "execution_count": 149,
   "id": "8e442edd",
   "metadata": {},
   "outputs": [
    {
     "name": "stdout",
     "output_type": "stream",
     "text": [
      "[False, False, True, True, False, True, True, False, False, True, False, False, True, True, False, False, False, True, True, False, True, True, False, True, False, True, False, True, True, False, False, False, False, False, False, True, False, False, False, False, True, True, False, True, False, True, False, False, True, False, False, False, False, False, False, False, True, False, False, False, False, False, False, False, True, True, True, True, False, True, True, False, False, False, True, False, True, True, False, False, False, True, False, False, False, True, True, False, False, True, False, False, False, True, True, False, False, True, False, True]\n"
     ]
    }
   ],
   "source": [
    "first_state = [choice([True, False]) for _ in range(NUM_POINTS)]\n",
    "print(first_state)\n",
    "def print_state(state):\n",
    "    return ['T' if item is True else 'F' if item is False else item for item in state]"
   ]
  },
  {
   "cell_type": "markdown",
   "id": "40eefc32",
   "metadata": {},
   "source": [
    "# Tabu search"
   ]
  },
  {
   "cell_type": "code",
   "execution_count": 150,
   "id": "f504d1ca",
   "metadata": {},
   "outputs": [
    {
     "name": "stdout",
     "output_type": "stream",
     "text": [
      "initial state: ['F', 'F', 'T', 'T', 'F', 'T', 'T', 'F', 'F', 'T', 'F', 'F', 'T', 'T', 'F', 'F', 'F', 'T', 'T', 'F', 'T', 'T', 'F', 'T', 'F', 'T', 'F', 'T', 'T', 'F', 'F', 'F', 'F', 'F', 'F', 'T', 'F', 'F', 'F', 'F', 'T', 'T', 'F', 'T', 'F', 'T', 'F', 'F', 'T', 'F', 'F', 'F', 'F', 'F', 'F', 'F', 'T', 'F', 'F', 'F', 'F', 'F', 'F', 'F', 'T', 'T', 'T', 'T', 'F', 'T', 'T', 'F', 'F', 'F', 'T', 'F', 'T', 'T', 'F', 'F', 'F', 'T', 'F', 'F', 'F', 'T', 'T', 'F', 'F', 'T', 'F', 'F', 'F', 'T', 'T', 'F', 'F', 'T', 'F', 'T']\n",
      "final state:   ['F', 'F', 'F', 'F', 'F', 'F', 'F', 'F', 'F', 'F', 'T', 'F', 'F', 'F', 'F', 'F', 'T', 'F', 'T', 'F', 'F', 'T', 'F', 'F', 'F', 'F', 'F', 'F', 'F', 'F', 'F', 'F', 'F', 'F', 'T', 'T', 'F', 'F', 'F', 'F', 'F', 'F', 'F', 'F', 'F', 'F', 'F', 'F', 'F', 'F', 'F', 'F', 'F', 'F', 'F', 'F', 'F', 'F', 'F', 'F', 'F', 'F', 'F', 'F', 'F', 'F', 'F', 'F', 'T', 'F', 'F', 'F', 'T', 'F', 'F', 'F', 'T', 'F', 'F', 'F', 'F', 'F', 'F', 'F', 'F', 'F', 'F', 'F', 'F', 'F', 'F', 'F', 'F', 'F', 'F', 'F', 'F', 'F', 'F', 'F']\n",
      "all step done: 5646\n",
      "(100, -6)\n"
     ]
    }
   ],
   "source": [
    "DIM_TABU_LIST=100\n",
    "current_state = first_state\n",
    "print(\"initial state:\",print_state(current_state))\n",
    "neighbours=[]\n",
    "tabu_list=[DIM_TABU_LIST]\n",
    "step_done=0\n",
    "best_state_value=fitness2(current_state,x)\n",
    "best_state = current_state\n",
    "\n",
    "for _ in range(100):\n",
    "    neighbours = [tweak(current_state) for _ in range(100)]\n",
    "    max_neig = neighbours[0]\n",
    "    for neig in neighbours:\n",
    "        if neig not in tabu_list and fitness2(neig,x) >= fitness2(max_neig,x):\n",
    "            step_done +=1\n",
    "            max_neig=neig\n",
    "\n",
    "    current_state=max_neig\n",
    "    tabu_list.append(current_state)\n",
    "    if fitness2(current_state,x) > best_state_value:\n",
    "        best_state = current_state\n",
    "        best_state_value = fitness2(current_state,x)\n",
    "\n",
    "    if len(tabu_list) >= DIM_TABU_LIST:\n",
    "        tabu_list.pop()\n",
    "\n",
    "print(\"final state:  \", print_state(current_state))\n",
    "print(\"all step done:\", step_done)\n",
    "print(fitness2(best_state,x))"
   ]
  },
  {
   "cell_type": "markdown",
   "id": "a3306752",
   "metadata": {},
   "source": [
    "# Iterated local search"
   ]
  },
  {
   "cell_type": "code",
   "execution_count": 151,
   "id": "998fc2c3",
   "metadata": {},
   "outputs": [
    {
     "name": "stdout",
     "output_type": "stream",
     "text": [
      "initial state: ['F', 'F', 'T', 'T', 'F', 'T', 'T', 'F', 'F', 'T', 'F', 'F', 'T', 'T', 'F', 'F', 'F', 'T', 'T', 'F', 'T', 'T', 'F', 'T', 'F', 'T', 'F', 'T', 'T', 'F', 'F', 'F', 'F', 'F', 'F', 'T', 'F', 'F', 'F', 'F', 'T', 'T', 'F', 'T', 'F', 'T', 'F', 'F', 'T', 'F', 'F', 'F', 'F', 'F', 'F', 'F', 'T', 'F', 'F', 'F', 'F', 'F', 'F', 'F', 'T', 'T', 'T', 'T', 'F', 'T', 'T', 'F', 'F', 'F', 'T', 'F', 'T', 'T', 'F', 'F', 'F', 'T', 'F', 'F', 'F', 'T', 'T', 'F', 'F', 'T', 'F', 'F', 'F', 'T', 'T', 'F', 'F', 'T', 'F', 'T']\n",
      "final state:   ['F', 'F', 'T', 'F', 'F', 'T', 'F', 'F', 'F', 'T', 'F', 'F', 'F', 'T', 'F', 'F', 'F', 'F', 'F', 'F', 'F', 'F', 'F', 'F', 'F', 'F', 'F', 'F', 'F', 'F', 'F', 'F', 'F', 'F', 'F', 'T', 'F', 'F', 'F', 'F', 'F', 'F', 'F', 'F', 'F', 'T', 'F', 'F', 'F', 'F', 'F', 'F', 'F', 'F', 'F', 'F', 'T', 'F', 'F', 'F', 'F', 'F', 'F', 'F', 'F', 'T', 'F', 'T', 'F', 'F', 'F', 'F', 'F', 'F', 'F', 'F', 'T', 'F', 'F', 'F', 'F', 'F', 'F', 'F', 'F', 'T', 'F', 'F', 'F', 'T', 'F', 'F', 'F', 'F', 'F', 'F', 'F', 'F', 'F', 'T']\n",
      "all step done: 28\n",
      "(100, -13)\n"
     ]
    }
   ],
   "source": [
    "current_state = first_state\n",
    "print(\"initial state:\",print_state(current_state))\n",
    "steady_state_cont = 0\n",
    "steady_state_limit = 10\n",
    "step_done=0\n",
    "for _ in range(100):\n",
    "    new_state = tweak(current_state)\n",
    "    if fitness2(new_state,x) >= fitness2(current_state,x):\n",
    "        step_done+=1\n",
    "        steady_state_cont = 0\n",
    "        current_state = new_state\n",
    "    else:\n",
    "        steady_state_cont+=1\n",
    "        if steady_state_cont == steady_state_limit :\n",
    "            temp_state = [choice([True, False]) for _ in range(NUM_POINTS)]\n",
    "            step_done+=1\n",
    "            if fitness2(temp_state,x) > fitness2(current_state,x):\n",
    "                current_state=temp_state\n",
    "            steady_state_cont=0\n",
    "print(\"final state:  \", print_state(current_state))\n",
    "print(\"all step done:\", step_done)\n",
    "print(fitness2(current_state,x))"
   ]
  },
  {
   "cell_type": "markdown",
   "id": "a2b4ab07",
   "metadata": {},
   "source": [
    "# Simulated annealing"
   ]
  },
  {
   "cell_type": "code",
   "execution_count": 152,
   "id": "e90bf7bd",
   "metadata": {},
   "outputs": [
    {
     "name": "stdout",
     "output_type": "stream",
     "text": [
      "initial state: ['F', 'F', 'T', 'T', 'F', 'T', 'T', 'F', 'F', 'T', 'F', 'F', 'T', 'T', 'F', 'F', 'F', 'T', 'T', 'F', 'T', 'T', 'F', 'T', 'F', 'T', 'F', 'T', 'T', 'F', 'F', 'F', 'F', 'F', 'F', 'T', 'F', 'F', 'F', 'F', 'T', 'T', 'F', 'T', 'F', 'T', 'F', 'F', 'T', 'F', 'F', 'F', 'F', 'F', 'F', 'F', 'T', 'F', 'F', 'F', 'F', 'F', 'F', 'F', 'T', 'T', 'T', 'T', 'F', 'T', 'T', 'F', 'F', 'F', 'T', 'F', 'T', 'T', 'F', 'F', 'F', 'T', 'F', 'F', 'F', 'T', 'T', 'F', 'F', 'T', 'F', 'F', 'F', 'T', 'T', 'F', 'F', 'T', 'F', 'T']\n",
      "final state:   ['F', 'F', 'T', 'F', 'F', 'F', 'T', 'F', 'F', 'T', 'F', 'F', 'F', 'F', 'F', 'F', 'F', 'F', 'F', 'F', 'F', 'F', 'F', 'F', 'F', 'F', 'F', 'F', 'F', 'F', 'F', 'F', 'F', 'F', 'F', 'F', 'F', 'F', 'F', 'F', 'F', 'F', 'F', 'F', 'F', 'F', 'F', 'F', 'F', 'F', 'F', 'F', 'F', 'F', 'F', 'F', 'T', 'F', 'F', 'F', 'F', 'F', 'F', 'F', 'T', 'F', 'F', 'F', 'F', 'F', 'F', 'F', 'F', 'F', 'T', 'F', 'F', 'F', 'F', 'F', 'F', 'F', 'F', 'F', 'F', 'F', 'F', 'F', 'F', 'T', 'F', 'F', 'F', 'F', 'T', 'F', 'F', 'F', 'F', 'F']\n",
      "all step done: 453\n",
      "(100, -8)\n"
     ]
    }
   ],
   "source": [
    "current_state = first_state\n",
    "print(\"initial state:\",print_state(current_state))\n",
    "cooling_rate=0.97\n",
    "cost=fitness2(current_state,x)\n",
    "best_solution=current_state\n",
    "best_cost=cost\n",
    "temperature=cooling_rate\n",
    "last_valid=current_state\n",
    "last_cost=fitness2(current_state,x)\n",
    "step_done=1\n",
    "while temperature > 0.001 :  \n",
    "        new_state = tweak(current_state)\n",
    "        score_new=fitness2(new_state,x)\n",
    "        score_curr=fitness2(current_state,x)\n",
    "        step_done+=2\n",
    "        if  score_new>score_curr or random() < math.exp( -((2*score_curr[0]+score_curr[1])-(2*score_new[0]+score_new[1]))/ temperature):\n",
    "            current_state = new_state\n",
    "            current_energy =score_new\n",
    "            if(score_new[0]==NUM_POINTS):\n",
    "                    last_valid=current_state\n",
    "                    last_cost=score_new\n",
    "            if score_new>best_cost:\n",
    "                best_solution = current_state\n",
    "                best_cost = score_new\n",
    "        \n",
    "        temperature *= cooling_rate\n",
    "if(best_cost<=last_cost):\n",
    "    best_cost=last_cost\n",
    "    best_solution=last_valid\n",
    "print(\"final state:  \", print_state(current_state))\n",
    "print(\"all step done:\", step_done)\n",
    "print(fitness2(current_state,x))"
   ]
  }
 ],
 "metadata": {
  "kernelspec": {
   "display_name": "Python 3 (ipykernel)",
   "language": "python",
   "name": "python3"
  },
  "language_info": {
   "codemirror_mode": {
    "name": "ipython",
    "version": 3
   },
   "file_extension": ".py",
   "mimetype": "text/x-python",
   "name": "python",
   "nbconvert_exporter": "python",
   "pygments_lexer": "ipython3",
   "version": "3.12.0"
  }
 },
 "nbformat": 4,
 "nbformat_minor": 5
}
